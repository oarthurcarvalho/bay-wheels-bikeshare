{
 "cells": [
  {
   "cell_type": "markdown",
   "id": "9e4a38cf-80f1-4b9c-9026-a6b8e17531ec",
   "metadata": {},
   "source": [
    "# 0.0. Imports"
   ]
  },
  {
   "cell_type": "markdown",
   "id": "b1475733-462b-42e1-8484-4554dbac4ed9",
   "metadata": {},
   "source": [
    "## 0.1. Helper Functions"
   ]
  },
  {
   "cell_type": "markdown",
   "id": "080bf530-9013-4e22-b4d6-46e8ec9c1202",
   "metadata": {},
   "source": [
    "## 0.2. Loading data"
   ]
  },
  {
   "cell_type": "markdown",
   "id": "8e8d98f0-b4d6-430d-b2a6-d68f2e8a3a60",
   "metadata": {},
   "source": [
    "# 1.0. Descrição dos Dados"
   ]
  },
  {
   "cell_type": "markdown",
   "id": "19b49c76-1e50-4a0f-9fce-e92c94262289",
   "metadata": {},
   "source": [
    "# 2.0. Feature Engineering"
   ]
  },
  {
   "cell_type": "markdown",
   "id": "2b8c3d58-2be2-42c5-bdb8-0d23e190c3eb",
   "metadata": {},
   "source": [
    "# 3.0. Filtragem de Variáveis"
   ]
  },
  {
   "cell_type": "markdown",
   "id": "26b28b71-9a2d-4a6b-b264-72278ac6a1b6",
   "metadata": {},
   "source": [
    "# 4.0. Análise Exploratória de Dados (EDA)"
   ]
  },
  {
   "cell_type": "markdown",
   "id": "53d16f7d-ec16-4845-9ca1-adff31753935",
   "metadata": {},
   "source": [
    "# 5.0. Preparação dos Dados"
   ]
  },
  {
   "cell_type": "markdown",
   "id": "dc70593b-d55b-4781-9f75-190f0d1089a8",
   "metadata": {},
   "source": [
    "# 6.0. Feature Selection"
   ]
  },
  {
   "cell_type": "markdown",
   "id": "b97da241-428f-44a0-97c9-98f5c8b541c1",
   "metadata": {},
   "source": [
    "# 7.0. Machine Learning Modeling"
   ]
  },
  {
   "cell_type": "markdown",
   "id": "89dcfe47-66ff-4c73-94f8-e17e0eebf282",
   "metadata": {},
   "source": [
    "# 8.0. Hyperparameter Fine Tuning"
   ]
  },
  {
   "cell_type": "markdown",
   "id": "5a9a87ed-ef59-4904-a3c6-af8553e29e6a",
   "metadata": {},
   "source": [
    "# 9.0. Tradução e Interpretação do Erro"
   ]
  },
  {
   "cell_type": "markdown",
   "id": "c3a48994-f64b-4a0a-8b71-60de6f3bc3de",
   "metadata": {},
   "source": [
    "# 10.0. API e Deploy do Modelo"
   ]
  },
  {
   "cell_type": "code",
   "execution_count": null,
   "id": "d653f2f1-5b50-427e-b3cd-79009480d1f7",
   "metadata": {},
   "outputs": [],
   "source": []
  }
 ],
 "metadata": {
  "kernelspec": {
   "display_name": "Python 3 (ipykernel)",
   "language": "python",
   "name": "python3"
  },
  "language_info": {
   "codemirror_mode": {
    "name": "ipython",
    "version": 3
   },
   "file_extension": ".py",
   "mimetype": "text/x-python",
   "name": "python",
   "nbconvert_exporter": "python",
   "pygments_lexer": "ipython3",
   "version": "3.10.13"
  }
 },
 "nbformat": 4,
 "nbformat_minor": 5
}
